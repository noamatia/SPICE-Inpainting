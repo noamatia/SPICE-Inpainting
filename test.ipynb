{
 "cells": [
  {
   "cell_type": "code",
   "execution_count": 2,
   "metadata": {},
   "outputs": [],
   "source": [
    "import pandas as pd"
   ]
  },
  {
   "cell_type": "code",
   "execution_count": 10,
   "metadata": {},
   "outputs": [],
   "source": [
    "parts = [\"back\", \"leg\", \"arm\", \"seat\"]\n",
    "def get_part(x):\n",
    "    for part in parts:\n",
    "        if part in x:\n",
    "            return part\n",
    "    raise\n",
    "df = pd.read_csv('/scratch/noam/control_point_e/datasets/chair_llama3_not_unk_top100/val.csv')\n",
    "df = df[df.llama3_utterance != \"Unknown\"]\n",
    "df[\"part\"] = df.llama3_utterance.apply(lambda x: get_part(x))\n",
    "df.to_csv('/scratch/noam/control_point_e/datasets/chair_llama3_not_unk_top100/val.csv', index=False)"
   ]
  },
  {
   "cell_type": "code",
   "execution_count": 8,
   "metadata": {},
   "outputs": [
    {
     "data": {
      "text/plain": [
       "Index(['workerid', 'prompt', 'utterance', 'assignmentid', 'worktimeinseconds',\n",
       "       'source_model_name', 'source_object_class', 'source_dataset',\n",
       "       'target_model_name', 'target_object_class', 'target_dataset',\n",
       "       'is_patched', 'target_uid', 'source_uid', 'hard_context',\n",
       "       'target_original_object_class', 'source_original_object_class',\n",
       "       'saliency', 'tokens', 'tokens_len', 'utterance_spelled',\n",
       "       'target_unary_split', 'source_unary_split', 'listening_split',\n",
       "       'changeit_split', 'tokens_encoded', 'llama3_utterance',\n",
       "       'source_wnlemmas', 'target_wnlemmas', 'intersect_wnlemmas',\n",
       "       'random_wnlemma', 'llama3_wnlemma_utterance', 'chamfer_distance',\n",
       "       'part'],\n",
       "      dtype='object')"
      ]
     },
     "execution_count": 8,
     "metadata": {},
     "output_type": "execute_result"
    }
   ],
   "source": [
    "df.columns"
   ]
  },
  {
   "cell_type": "code",
   "execution_count": 18,
   "metadata": {},
   "outputs": [],
   "source": [
    "import shutil\n",
    "html = \"<table>\\n\"\n",
    "html += \"<tr><th>index<th/><th>utterance<th/><th>source<th/><th>target<th/></tr>\\n\"\n",
    "for i, row in df.iterrows():\n",
    "    source_image = f\"/scratch/noam/shapetalk/images/full_size/{row.source_uid}.png\"\n",
    "    target_image = f\"/scratch/noam/shapetalk/images/full_size/{row.target_uid}.png\"\n",
    "    shutil.copy(source_image, f\"/home/noamatia/repos/point-e/output/images/{row.source_uid}.png\")\n",
    "    shutil.copy(target_image, f\"/home/noamatia/repos/point-e/output/images/{row.target_uid}.png\")\n",
    "    html += f\"<tr><td>{i}</td><td>{row.utterance}</td><td><img src='images/{row.source_uid}.png'></td><td><img src='images/{row.target_uid}.png'></td></tr>\\n\"\n",
    "html += \"</table>\"\n",
    "with open(\"/home/noamatia/repos/point-e/output/index.html\", \"w\") as f:\n",
    "    f.write(html)\n"
   ]
  },
  {
   "cell_type": "code",
   "execution_count": 14,
   "metadata": {},
   "outputs": [
    {
     "data": {
      "text/plain": [
       "(62392, 33)"
      ]
     },
     "execution_count": 14,
     "metadata": {},
     "output_type": "execute_result"
    }
   ],
   "source": [
    "df.shape"
   ]
  },
  {
   "cell_type": "code",
   "execution_count": 15,
   "metadata": {},
   "outputs": [
    {
     "data": {
      "text/plain": [
       "RangeIndex(start=0, stop=62392, step=1)"
      ]
     },
     "execution_count": 15,
     "metadata": {},
     "output_type": "execute_result"
    }
   ],
   "source": [
    "df.index.unique()"
   ]
  },
  {
   "cell_type": "code",
   "execution_count": null,
   "metadata": {},
   "outputs": [],
   "source": [
    "630\n",
    "12094\n",
    "4589\n",
    "11302\n",
    "24905\n",
    "12230\n",
    "35315\n",
    "34940\n",
    "2557\n",
    "22293\n",
    "9605\n",
    "11379\n",
    "12192\n",
    "62001\n",
    "12309\n",
    "48829\n",
    "23855\n",
    "36353\n",
    "12469\n",
    "9747\n",
    "2190\n",
    "12538\n",
    "45809\n"
   ]
  },
  {
   "cell_type": "code",
   "execution_count": null,
   "metadata": {},
   "outputs": [],
   "source": [
    "import torch\n",
    "from tqdm.auto import tqdm\n",
    "\n",
    "from point_e.diffusion.configs import DIFFUSION_CONFIGS, diffusion_from_config\n",
    "from point_e.diffusion.sampler import PointCloudSampler\n",
    "from point_e.models.download import load_checkpoint\n",
    "from point_e.models.configs import MODEL_CONFIGS, model_from_config\n",
    "from point_e.util.plotting import plot_point_cloud\n",
    "\n",
    "device = torch.device('cuda' if torch.cuda.is_available() else 'cpu')\n",
    "\n",
    "print('creating base model...')\n",
    "base_name = 'base40M-textvec'\n",
    "base_model = model_from_config(MODEL_CONFIGS[base_name], device)\n",
    "base_model.create_control_layers()"
   ]
  }
 ],
 "metadata": {
  "kernelspec": {
   "display_name": "point-e",
   "language": "python",
   "name": "python3"
  },
  "language_info": {
   "codemirror_mode": {
    "name": "ipython",
    "version": 3
   },
   "file_extension": ".py",
   "mimetype": "text/x-python",
   "name": "python",
   "nbconvert_exporter": "python",
   "pygments_lexer": "ipython3",
   "version": "3.10.14"
  }
 },
 "nbformat": 4,
 "nbformat_minor": 2
}
