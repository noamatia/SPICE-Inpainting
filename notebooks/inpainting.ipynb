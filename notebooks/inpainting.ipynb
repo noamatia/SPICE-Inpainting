{
 "cells": [
  {
   "cell_type": "code",
   "execution_count": 1,
   "metadata": {},
   "outputs": [],
   "source": [
    "import os\n",
    "os.environ[\"CUDA_VISIBLE_DEVICES\"] = \"2\"\n",
    "import json\n",
    "import torch\n",
    "import pandas as pd\n",
    "from PIL import Image\n",
    "from tqdm.auto import tqdm\n",
    "from spice import SPICE\n",
    "from point_e.util.point_cloud import PointCloud\n",
    "from point_e.models.download import load_checkpoint\n",
    "from point_e.util.plotting import render_point_cloud\n",
    "from point_e.diffusion.sampler import PointCloudSampler\n",
    "from point_e.models.configs import MODEL_CONFIGS, model_from_config\n",
    "from point_e.diffusion.configs import DIFFUSION_CONFIGS, diffusion_from_config"
   ]
  },
  {
   "cell_type": "code",
   "execution_count": 2,
   "metadata": {},
   "outputs": [],
   "source": [
    "batch_size = 6\n",
    "lr = 7e-5 * 0.4\n",
    "copy_prob = 0.1\n",
    "num_points = 1024\n",
    "cond_drop_prob = 0.5\n",
    "copy_prompt = \"COPY\"\n",
    "shapenet_uid_to_partnet_uid_path = \"/scratch/noam/partnet/chair.json\"\n",
    "shapetalk_csv = \"/scratch/noam/control_point_e/datasets/chair/val.csv\"\n",
    "checkpoint_path = \"/scratch/noam/control_point_e/executions/08_28_2024_21_57_22_train_chair_val_chair_prompt_key_utterance_cond_drop_0_5_copy_0_1_copy_prompt_COPY/checkpoints/epoch=74-step=66375.ckpt\""
   ]
  },
  {
   "cell_type": "code",
   "execution_count": 3,
   "metadata": {},
   "outputs": [],
   "source": [
    "with open(shapenet_uid_to_partnet_uid_path, \"r\") as f:\n",
    "    shapenet_uid_to_partnet_uid = json.load(f)\n",
    "df = pd.read_csv(shapetalk_csv)\n",
    "df = df[df.source_uid.apply(lambda uid: uid in shapenet_uid_to_partnet_uid)]\n",
    "df = df[df.llama3_utterance != \"Unknown\"]\n",
    "device = torch.device(\"cuda\" if torch.cuda.is_available() else \"cpu\")\n",
    "model = SPICE.load_from_checkpoint(\n",
    "    lr=lr,\n",
    "    dev=device,\n",
    "    copy_prob=copy_prob,\n",
    "    val_dataloader=None,\n",
    "    num_points=num_points,\n",
    "    test_dataloader=None,\n",
    "    batch_size=batch_size,\n",
    "    copy_prompt=copy_prompt,\n",
    "    cond_drop_prob=cond_drop_prob,\n",
    "    checkpoint_path=checkpoint_path,\n",
    ")"
   ]
  },
  {
   "cell_type": "code",
   "execution_count": 4,
   "metadata": {},
   "outputs": [],
   "source": [
    "llama3_utterance_to_part = {\n",
    "    \"a chair with long legs\": \"leg\",\n",
    "    \"a chair with thin legs\": \"leg\",\n",
    "    \"a chair with thick legs\": \"leg\",\n",
    "    \"a chair with a thin seat\": \"seat\",\n",
    "    \"a chair with a thick seat\": \"seat\",\n",
    "    \"a chair with thin armrests\": \"arm\",\n",
    "    \"a chair with thick armrests\": \"arm\",\n",
    "    \"a chair with a long backrest\": \"back\",\n",
    "    \"a chair with a thin backrest\": \"back\",\n",
    "    \"a chair with a thick backrest\": \"back\",\n",
    "    \"a chair with a short backrest\": \"back\",\n",
    "}"
   ]
  },
  {
   "cell_type": "code",
   "execution_count": 5,
   "metadata": {},
   "outputs": [
    {
     "data": {
      "application/vnd.jupyter.widget-view+json": {
       "model_id": "e1b462769eda4799a6ed7881426466d8",
       "version_major": 2,
       "version_minor": 0
      },
      "text/plain": [
       "  0%|          | 0/11 [00:00<?, ?it/s]"
      ]
     },
     "metadata": {},
     "output_type": "display_data"
    },
    {
     "data": {
      "application/vnd.jupyter.widget-view+json": {
       "model_id": "c58c3ee3172d4bd192a582b7a43ae5cd",
       "version_major": 2,
       "version_minor": 0
      },
      "text/plain": [
       "a chair with long legs:   0%|          | 0/5 [00:00<?, ?it/s]"
      ]
     },
     "metadata": {},
     "output_type": "display_data"
    }
   ],
   "source": [
    "images_dir = \"inpainting/images\"\n",
    "os.makedirs(images_dir, exist_ok=True)\n",
    "html = \"<table style='font-size:36px;'>\\n\"\n",
    "html += \"<tr><th>ID</th><th>Prompt</th><th>Condition</th><th>Copy</th><th>SPICE</th><th>SPICE+Inpainting</th><th>Masked</th></tr>\\n\"\n",
    "for llama3_utterance, part in tqdm(llama3_utterance_to_part.items(), total=len(llama3_utterance_to_part)):\n",
    "    curr_df = df[df.llama3_utterance == llama3_utterance]\n",
    "    curr_df = curr_df.sample(min(5, len(curr_df)))\n",
    "    for idx, row in tqdm(curr_df.iterrows(), desc=llama3_utterance, total=len(curr_df)):\n",
    "        condition_pc = PointCloud.load_partnet(shapenet_uid_to_partnet_uid[row.source_uid], row.source_uid).random_sample(4096)\n",
    "        Image.fromarray(render_point_cloud(condition_pc)).save(f\"{images_dir}/{idx}_condition.png\")\n",
    "        guidance = condition_pc.random_sample(1024).encode().unsqueeze(0).to(device)\n",
    "        injection_dir = os.path.join(\"/scratch/noam/seeds\", str(idx))\n",
    "        os.makedirs(injection_dir, exist_ok=True)\n",
    "        copy_samples = model.sampler.sample_batch(\n",
    "            batch_size=1,\n",
    "            guidances=[guidance, None],\n",
    "            injection_dir=injection_dir,\n",
    "            model_kwargs={\"texts\": [copy_prompt]},\n",
    "        )\n",
    "        copy_pc = model.sampler.output_to_point_clouds(copy_samples)[0].add_labels(condition_pc)\n",
    "        Image.fromarray(render_point_cloud(copy_pc)).save(f\"{images_dir}/{idx}_copy.png\")\n",
    "        spice_samples = model.sampler.sample_batch(\n",
    "            batch_size=1,\n",
    "            guidances=[guidance, None],\n",
    "            injection_dir=injection_dir,\n",
    "            model_kwargs={\"texts\": [row.utterance]},\n",
    "        )\n",
    "        spice_pc = model.sampler.output_to_point_clouds(spice_samples)[0]\n",
    "        Image.fromarray(render_point_cloud(spice_pc)).save(f\"{images_dir}/{idx}_spice.png\")\n",
    "        output_samples = model.sampler.sample_batch(\n",
    "            batch_size=1,\n",
    "            guidances=[guidance, None],\n",
    "            injection_dir=injection_dir,\n",
    "            model_kwargs={\"texts\": [row.utterance]},\n",
    "            injection_indices=copy_pc.random_sample(num_points).mask(part)\n",
    "        )\n",
    "        output_pc = model.sampler.output_to_point_clouds(output_samples)[0]\n",
    "        Image.fromarray(render_point_cloud(output_pc)).save(f\"{images_dir}/{idx}_output.png\")\n",
    "        masked_pc = copy_pc.remove(part)\n",
    "        Image.fromarray(render_point_cloud(masked_pc)).save(f\"{images_dir}/{idx}_masked.png\")\n",
    "        html += f\"<tr><td>{idx}</td><td>{row.utterance}</td><td><img src='images/{idx}_condition.png'></td><td><img src='images/{idx}_copy.png'></td><td><img src='images/{idx}_spice.png'></td><td><img src='images/{idx}_output.png'></td><td><img src='images/{idx}_masked.png'></td></tr>\\n\"\n",
    "html += \"</table>\"\n",
    "with open(\"inpainting/index.html\", \"w\") as f:\n",
    "    f.write(html)\n"
   ]
  }
 ],
 "metadata": {
  "kernelspec": {
   "display_name": "point-e",
   "language": "python",
   "name": "python3"
  },
  "language_info": {
   "codemirror_mode": {
    "name": "ipython",
    "version": 3
   },
   "file_extension": ".py",
   "mimetype": "text/x-python",
   "name": "python",
   "nbconvert_exporter": "python",
   "pygments_lexer": "ipython3",
   "version": "3.10.14"
  }
 },
 "nbformat": 4,
 "nbformat_minor": 2
}
