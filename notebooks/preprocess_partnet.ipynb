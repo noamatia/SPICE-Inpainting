{
 "cells": [
  {
   "cell_type": "code",
   "execution_count": 6,
   "metadata": {},
   "outputs": [],
   "source": [
    "import os\n",
    "import tqdm\n",
    "import json\n",
    "import pandas as pd"
   ]
  },
  {
   "cell_type": "code",
   "execution_count": 7,
   "metadata": {},
   "outputs": [],
   "source": [
    "partnet_raw_dir = \"/scratch/noam/data_v0\"\n",
    "partnet_processed_dir = \"/scratch/noam/partnet\"\n",
    "shapetalk_csv = \"/scratch/noam/control_point_e/datasets/chair/train.csv\""
   ]
  },
  {
   "cell_type": "code",
   "execution_count": 8,
   "metadata": {},
   "outputs": [
    {
     "name": "stderr",
     "output_type": "stream",
     "text": [
      "/tmp/ipykernel_460178/2472095397.py:1: DtypeWarning: Columns (1) have mixed types. Specify dtype option on import or set low_memory=False.\n",
      "  df = pd.read_csv(shapetalk_csv)\n"
     ]
    }
   ],
   "source": [
    "df = pd.read_csv(shapetalk_csv)\n",
    "model_id_to_shapenet_uid = {}\n",
    "for _, row in df.iterrows():\n",
    "    model_id_to_shapenet_uid[row.source_uid.split(\"/\")[-1]] = row.source_uid\n",
    "    model_id_to_shapenet_uid[row.target_uid.split(\"/\")[-1]] = row.target_uid"
   ]
  },
  {
   "cell_type": "code",
   "execution_count": null,
   "metadata": {},
   "outputs": [],
   "source": [
    "shapenet_uid_to_partnet_uid = {}\n",
    "partnet_uids = os.listdir(partnet_raw_dir)\n",
    "for partnet_uid in tqdm.tqdm(partnet_uids, total=len(partnet_uids)):\n",
    "    src_dir = os.path.join(partnet_raw_dir, partnet_uid)\n",
    "    with open(os.path.join(src_dir, \"meta.json\"), \"r\") as f:\n",
    "        metadata = json.load(f)\n",
    "    model_id = metadata[\"model_id\"]\n",
    "    if model_id not in model_id_to_shapenet_uid:\n",
    "        continue\n",
    "    shapenet_uid = model_id_to_shapenet_uid[model_id]\n",
    "    if shapenet_uid not in shapenet_uid_to_partnet_uid:\n",
    "        shapenet_uid_to_partnet_uid[shapenet_uid] = partnet_uid\n",
    "    else:\n",
    "        prev_src_dir = os.path.join(partnet_raw_dir, shapenet_uid_to_partnet_uid[shapenet_uid])\n",
    "        with open(os.path.join(prev_src_dir, \"meta.json\"), \"r\") as f:\n",
    "            prev_metadata = json.load(f)\n",
    "        if int(metadata[\"version\"]) > int(prev_metadata[\"version\"]):\n",
    "            shapenet_uid_to_partnet_uid[shapenet_uid] = partnet_uid\n",
    "with open(os.path.join(partnet_processed_dir, \"shapenet_uid_to_partnet_uid.json\"), \"w\") as f:\n",
    "    json.dump(shapenet_uid_to_partnet_uid, f)"
   ]
  }
 ],
 "metadata": {
  "kernelspec": {
   "display_name": "point-e",
   "language": "python",
   "name": "python3"
  },
  "language_info": {
   "codemirror_mode": {
    "name": "ipython",
    "version": 3
   },
   "file_extension": ".py",
   "mimetype": "text/x-python",
   "name": "python",
   "nbconvert_exporter": "python",
   "pygments_lexer": "ipython3",
   "version": "3.10.14"
  }
 },
 "nbformat": 4,
 "nbformat_minor": 2
}
